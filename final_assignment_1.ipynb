{
 "cells": [
  {
   "cell_type": "markdown",
   "id": "e4dbe97e",
   "metadata": {},
   "source": [
    "<center>\n",
    "    <img src=\"https://cf-courses-data.s3.us.cloud-object-storage.appdomain.cloud/IBMDeveloperSkillsNetwork-DS0105EN-SkillsNetwork/labs/Module2/images/SN_web_lightmode.png\" width=\"300\" alt=\"cognitiveclass.ai logo\">\n",
    "</center>"
   ]
  },
  {
   "cell_type": "markdown",
   "id": "266c60f3",
   "metadata": {},
   "source": [
    "# Hands-on Lab: Create your Jupyter Notebook"
   ]
  },
  {
   "cell_type": "markdown",
   "id": "4ec97a33",
   "metadata": {},
   "source": [
    "#### Add your code below following the instructions given in the course\n"
   ]
  },
  {
   "cell_type": "markdown",
   "id": "e6c5698c-10f7-44c4-8644-bba5c525d3a4",
   "metadata": {},
   "source": [
    "# Data Science Tools and Ecosystem"
   ]
  },
  {
   "cell_type": "markdown",
   "id": "b61dfae2-bf4f-4112-8997-9137bcf38078",
   "metadata": {},
   "source": [
    "In this notebook, Data Science Tools and Ecosystem are summarized."
   ]
  },
  {
   "cell_type": "markdown",
   "id": "71a17351-5299-4eda-a274-9a4d259cfa52",
   "metadata": {},
   "source": [
    "**Objectives:**\n",
    "- popular languages in data science\n",
    "- commonly used libraries\n",
    "- data science tools\n",
    "- arethmetic expressions"
   ]
  },
  {
   "cell_type": "markdown",
   "id": "0aab3f3f-9821-4e04-9036-d5bf91f72f4c",
   "metadata": {},
   "source": [
    "Some of the popular languages that Data Scientists use are:\n",
    "1. python\n",
    "2. r\n",
    "3. scala\n",
    "4. c++"
   ]
  },
  {
   "cell_type": "markdown",
   "id": "3de90772-2482-4085-aaaf-e3646e9b3209",
   "metadata": {},
   "source": [
    "Some of the commonly used libraries used by Data Scientists include:\n",
    "1. scikit\n",
    "2. numpy\n",
    "3. pandas\n",
    "4. numpy\n",
    "5. tensorflow"
   ]
  },
  {
   "cell_type": "markdown",
   "id": "6dd879f7-93a3-4ef6-9b82-5a1d34d89b46",
   "metadata": {},
   "source": [
    "|Data Science Tools|\n",
    "|----|\n",
    "|Rstudio|\n",
    "|Git|\n",
    "|vscode|"
   ]
  },
  {
   "cell_type": "markdown",
   "id": "ced9b148-ac36-4480-a756-7164b6b30211",
   "metadata": {},
   "source": [
    "### Below are a few examples of evaluating arithmetic expressions in Python."
   ]
  },
  {
   "cell_type": "code",
   "execution_count": 5,
   "id": "fa88788d-2b64-44ab-9823-1aac22de3e8f",
   "metadata": {},
   "outputs": [
    {
     "data": {
      "text/plain": [
       "17"
      ]
     },
     "execution_count": 5,
     "metadata": {},
     "output_type": "execute_result"
    }
   ],
   "source": [
    "#This a simple arithmetic expression to mutiply then add integers\n",
    "(3*4)+5"
   ]
  },
  {
   "cell_type": "code",
   "execution_count": 6,
   "id": "85a69870-c58a-481f-a31e-5ed111f9e77d",
   "metadata": {},
   "outputs": [
    {
     "name": "stdout",
     "output_type": "stream",
     "text": [
      "3.3333333333333335\n"
     ]
    }
   ],
   "source": [
    "#This will convert 200 minutes to hours by diving by 60\n",
    "minutes=200\n",
    "hour=minutes/60\n",
    "print(hour)"
   ]
  },
  {
   "cell_type": "markdown",
   "id": "3a1315a0-ec31-44a6-ae8a-e7c3b207a929",
   "metadata": {},
   "source": [
    "## Author: \n",
    "Hrithik Purohit"
   ]
  },
  {
   "cell_type": "markdown",
   "id": "8618b961",
   "metadata": {},
   "source": [
    "Copyright ©2024 IBM Corporation. All rights reserved."
   ]
  }
 ],
 "metadata": {
  "kernelspec": {
   "display_name": "base",
   "language": "python",
   "name": "python3"
  },
  "language_info": {
   "codemirror_mode": {
    "name": "ipython",
    "version": 3
   },
   "file_extension": ".py",
   "mimetype": "text/x-python",
   "name": "python",
   "nbconvert_exporter": "python",
   "pygments_lexer": "ipython3",
   "version": "3.12.7"
  }
 },
 "nbformat": 4,
 "nbformat_minor": 5
}
